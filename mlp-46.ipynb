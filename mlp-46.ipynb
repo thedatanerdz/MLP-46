{
 "cells": [
  {
   "cell_type": "markdown",
   "id": "2d2e223c",
   "metadata": {
    "papermill": {
     "duration": 0.005586,
     "end_time": "2023-07-02T16:07:25.871487",
     "exception": false,
     "start_time": "2023-07-02T16:07:25.865901",
     "status": "completed"
    },
    "tags": []
   },
   "source": [
    "# Implementation of Apriory Algorithm"
   ]
  },
  {
   "cell_type": "code",
   "execution_count": 1,
   "id": "e730f84e",
   "metadata": {
    "execution": {
     "iopub.execute_input": "2023-07-02T16:07:25.883191Z",
     "iopub.status.busy": "2023-07-02T16:07:25.882498Z",
     "iopub.status.idle": "2023-07-02T16:07:25.905480Z",
     "shell.execute_reply": "2023-07-02T16:07:25.904680Z"
    },
    "papermill": {
     "duration": 0.031248,
     "end_time": "2023-07-02T16:07:25.907752",
     "exception": false,
     "start_time": "2023-07-02T16:07:25.876504",
     "status": "completed"
    },
    "tags": []
   },
   "outputs": [],
   "source": [
    "import numpy as np \n",
    "import pandas as pd \n",
    "from mlxtend.frequent_patterns import apriori, association_rules "
   ]
  },
  {
   "cell_type": "markdown",
   "id": "98b50938",
   "metadata": {
    "papermill": {
     "duration": 0.004012,
     "end_time": "2023-07-02T16:07:25.916396",
     "exception": false,
     "start_time": "2023-07-02T16:07:25.912384",
     "status": "completed"
    },
    "tags": []
   },
   "source": [
    "#### Dataset: \n",
    "You can find the dataset in UCI Machine Learning repository. \n",
    "Link : http://archive.ics.uci.edu/ml/datasets/Online+Retail"
   ]
  },
  {
   "cell_type": "code",
   "execution_count": 2,
   "id": "bd1f578b",
   "metadata": {
    "execution": {
     "iopub.execute_input": "2023-07-02T16:07:25.926580Z",
     "iopub.status.busy": "2023-07-02T16:07:25.926072Z",
     "iopub.status.idle": "2023-07-02T16:08:29.910857Z",
     "shell.execute_reply": "2023-07-02T16:08:29.909762Z"
    },
    "papermill": {
     "duration": 63.992591,
     "end_time": "2023-07-02T16:08:29.913126",
     "exception": false,
     "start_time": "2023-07-02T16:07:25.920535",
     "status": "completed"
    },
    "tags": []
   },
   "outputs": [],
   "source": [
    "# Loading the dataset\n",
    "\n",
    "data = pd.read_excel('/kaggle/input/online-retail-transactions-dataset/Online Retail.xlsx')"
   ]
  },
  {
   "cell_type": "code",
   "execution_count": 3,
   "id": "06ebe50f",
   "metadata": {
    "execution": {
     "iopub.execute_input": "2023-07-02T16:08:29.923714Z",
     "iopub.status.busy": "2023-07-02T16:08:29.923163Z",
     "iopub.status.idle": "2023-07-02T16:08:30.068110Z",
     "shell.execute_reply": "2023-07-02T16:08:30.066693Z"
    },
    "papermill": {
     "duration": 0.152775,
     "end_time": "2023-07-02T16:08:30.070505",
     "exception": false,
     "start_time": "2023-07-02T16:08:29.917730",
     "status": "completed"
    },
    "tags": []
   },
   "outputs": [
    {
     "data": {
      "text/html": [
       "<div>\n",
       "<style scoped>\n",
       "    .dataframe tbody tr th:only-of-type {\n",
       "        vertical-align: middle;\n",
       "    }\n",
       "\n",
       "    .dataframe tbody tr th {\n",
       "        vertical-align: top;\n",
       "    }\n",
       "\n",
       "    .dataframe thead th {\n",
       "        text-align: right;\n",
       "    }\n",
       "</style>\n",
       "<table border=\"1\" class=\"dataframe\">\n",
       "  <thead>\n",
       "    <tr style=\"text-align: right;\">\n",
       "      <th></th>\n",
       "      <th>InvoiceNo</th>\n",
       "      <th>StockCode</th>\n",
       "      <th>Description</th>\n",
       "      <th>Quantity</th>\n",
       "      <th>InvoiceDate</th>\n",
       "      <th>UnitPrice</th>\n",
       "      <th>CustomerID</th>\n",
       "      <th>Country</th>\n",
       "    </tr>\n",
       "  </thead>\n",
       "  <tbody>\n",
       "    <tr>\n",
       "      <th>0</th>\n",
       "      <td>536365</td>\n",
       "      <td>85123A</td>\n",
       "      <td>WHITE HANGING HEART T-LIGHT HOLDER</td>\n",
       "      <td>6</td>\n",
       "      <td>2010-12-01 08:26:00</td>\n",
       "      <td>2.55</td>\n",
       "      <td>17850</td>\n",
       "      <td>United Kingdom</td>\n",
       "    </tr>\n",
       "    <tr>\n",
       "      <th>1</th>\n",
       "      <td>536365</td>\n",
       "      <td>71053</td>\n",
       "      <td>WHITE METAL LANTERN</td>\n",
       "      <td>6</td>\n",
       "      <td>2010-12-01 08:26:00</td>\n",
       "      <td>3.39</td>\n",
       "      <td>17850</td>\n",
       "      <td>United Kingdom</td>\n",
       "    </tr>\n",
       "    <tr>\n",
       "      <th>2</th>\n",
       "      <td>536365</td>\n",
       "      <td>84406B</td>\n",
       "      <td>CREAM CUPID HEARTS COAT HANGER</td>\n",
       "      <td>8</td>\n",
       "      <td>2010-12-01 08:26:00</td>\n",
       "      <td>2.75</td>\n",
       "      <td>17850</td>\n",
       "      <td>United Kingdom</td>\n",
       "    </tr>\n",
       "    <tr>\n",
       "      <th>3</th>\n",
       "      <td>536365</td>\n",
       "      <td>84029G</td>\n",
       "      <td>KNITTED UNION FLAG HOT WATER BOTTLE</td>\n",
       "      <td>6</td>\n",
       "      <td>2010-12-01 08:26:00</td>\n",
       "      <td>3.39</td>\n",
       "      <td>17850</td>\n",
       "      <td>United Kingdom</td>\n",
       "    </tr>\n",
       "    <tr>\n",
       "      <th>4</th>\n",
       "      <td>536365</td>\n",
       "      <td>84029E</td>\n",
       "      <td>RED WOOLLY HOTTIE WHITE HEART.</td>\n",
       "      <td>6</td>\n",
       "      <td>2010-12-01 08:26:00</td>\n",
       "      <td>3.39</td>\n",
       "      <td>17850</td>\n",
       "      <td>United Kingdom</td>\n",
       "    </tr>\n",
       "  </tbody>\n",
       "</table>\n",
       "</div>"
      ],
      "text/plain": [
       "  InvoiceNo StockCode                          Description  Quantity  \\\n",
       "0    536365    85123A   WHITE HANGING HEART T-LIGHT HOLDER         6   \n",
       "1    536365     71053                  WHITE METAL LANTERN         6   \n",
       "2    536365    84406B       CREAM CUPID HEARTS COAT HANGER         8   \n",
       "3    536365    84029G  KNITTED UNION FLAG HOT WATER BOTTLE         6   \n",
       "4    536365    84029E       RED WOOLLY HOTTIE WHITE HEART.         6   \n",
       "\n",
       "          InvoiceDate  UnitPrice  CustomerID         Country  \n",
       "0 2010-12-01 08:26:00       2.55       17850  United Kingdom  \n",
       "1 2010-12-01 08:26:00       3.39       17850  United Kingdom  \n",
       "2 2010-12-01 08:26:00       2.75       17850  United Kingdom  \n",
       "3 2010-12-01 08:26:00       3.39       17850  United Kingdom  \n",
       "4 2010-12-01 08:26:00       3.39       17850  United Kingdom  "
      ]
     },
     "execution_count": 3,
     "metadata": {},
     "output_type": "execute_result"
    }
   ],
   "source": [
    "# Showing the data\n",
    "\n",
    "data.head()"
   ]
  },
  {
   "cell_type": "code",
   "execution_count": 4,
   "id": "1f8e90cb",
   "metadata": {
    "execution": {
     "iopub.execute_input": "2023-07-02T16:08:30.083575Z",
     "iopub.status.busy": "2023-07-02T16:08:30.083171Z",
     "iopub.status.idle": "2023-07-02T16:08:30.090286Z",
     "shell.execute_reply": "2023-07-02T16:08:30.089283Z"
    },
    "papermill": {
     "duration": 0.015191,
     "end_time": "2023-07-02T16:08:30.092253",
     "exception": false,
     "start_time": "2023-07-02T16:08:30.077062",
     "status": "completed"
    },
    "scrolled": true,
    "tags": []
   },
   "outputs": [
    {
     "data": {
      "text/plain": [
       "Index(['InvoiceNo', 'StockCode', 'Description', 'Quantity', 'InvoiceDate',\n",
       "       'UnitPrice', 'CustomerID', 'Country'],\n",
       "      dtype='object')"
      ]
     },
     "execution_count": 4,
     "metadata": {},
     "output_type": "execute_result"
    }
   ],
   "source": [
    "# The columns in the data\n",
    "\n",
    "data.columns"
   ]
  },
  {
   "cell_type": "code",
   "execution_count": 5,
   "id": "0f7b6f82",
   "metadata": {
    "execution": {
     "iopub.execute_input": "2023-07-02T16:08:30.103913Z",
     "iopub.status.busy": "2023-07-02T16:08:30.103555Z",
     "iopub.status.idle": "2023-07-02T16:08:30.110078Z",
     "shell.execute_reply": "2023-07-02T16:08:30.109123Z"
    },
    "papermill": {
     "duration": 0.01507,
     "end_time": "2023-07-02T16:08:30.112361",
     "exception": false,
     "start_time": "2023-07-02T16:08:30.097291",
     "status": "completed"
    },
    "tags": []
   },
   "outputs": [
    {
     "data": {
      "text/plain": [
       "(541909, 8)"
      ]
     },
     "execution_count": 5,
     "metadata": {},
     "output_type": "execute_result"
    }
   ],
   "source": [
    "# The of the data\n",
    "\n",
    "data.shape"
   ]
  },
  {
   "cell_type": "code",
   "execution_count": 6,
   "id": "b1c5cefb",
   "metadata": {
    "execution": {
     "iopub.execute_input": "2023-07-02T16:08:30.123788Z",
     "iopub.status.busy": "2023-07-02T16:08:30.123425Z",
     "iopub.status.idle": "2023-07-02T16:08:30.411676Z",
     "shell.execute_reply": "2023-07-02T16:08:30.410343Z"
    },
    "papermill": {
     "duration": 0.296832,
     "end_time": "2023-07-02T16:08:30.414287",
     "exception": false,
     "start_time": "2023-07-02T16:08:30.117455",
     "status": "completed"
    },
    "tags": []
   },
   "outputs": [
    {
     "data": {
      "text/plain": [
       "True"
      ]
     },
     "execution_count": 6,
     "metadata": {},
     "output_type": "execute_result"
    }
   ],
   "source": [
    "# Checkign whether there is any null values of not\n",
    "\n",
    "data.isnull().values.any()"
   ]
  },
  {
   "cell_type": "code",
   "execution_count": 7,
   "id": "080817ff",
   "metadata": {
    "execution": {
     "iopub.execute_input": "2023-07-02T16:08:30.427140Z",
     "iopub.status.busy": "2023-07-02T16:08:30.426098Z",
     "iopub.status.idle": "2023-07-02T16:08:30.717943Z",
     "shell.execute_reply": "2023-07-02T16:08:30.716990Z"
    },
    "papermill": {
     "duration": 0.299749,
     "end_time": "2023-07-02T16:08:30.719642",
     "exception": false,
     "start_time": "2023-07-02T16:08:30.419893",
     "status": "completed"
    },
    "tags": []
   },
   "outputs": [
    {
     "data": {
      "text/plain": [
       "InvoiceNo         0\n",
       "StockCode         0\n",
       "Description    1454\n",
       "Quantity          0\n",
       "InvoiceDate       0\n",
       "UnitPrice         0\n",
       "CustomerID        0\n",
       "Country           0\n",
       "dtype: int64"
      ]
     },
     "execution_count": 7,
     "metadata": {},
     "output_type": "execute_result"
    }
   ],
   "source": [
    "# As the previous cell told us that there are some null values. So, let's find them!\n",
    "\n",
    "data.isnull().sum()"
   ]
  },
  {
   "cell_type": "markdown",
   "id": "98518509",
   "metadata": {
    "papermill": {
     "duration": 0.004695,
     "end_time": "2023-07-02T16:08:30.729345",
     "exception": false,
     "start_time": "2023-07-02T16:08:30.724650",
     "status": "completed"
    },
    "tags": []
   },
   "source": [
    "#### Data Preprocessing "
   ]
  },
  {
   "cell_type": "code",
   "execution_count": 8,
   "id": "9f6d205d",
   "metadata": {
    "execution": {
     "iopub.execute_input": "2023-07-02T16:08:30.740285Z",
     "iopub.status.busy": "2023-07-02T16:08:30.739907Z",
     "iopub.status.idle": "2023-07-02T16:08:31.608848Z",
     "shell.execute_reply": "2023-07-02T16:08:31.607502Z"
    },
    "papermill": {
     "duration": 0.877438,
     "end_time": "2023-07-02T16:08:31.611451",
     "exception": false,
     "start_time": "2023-07-02T16:08:30.734013",
     "status": "completed"
    },
    "tags": []
   },
   "outputs": [],
   "source": [
    "# Stripping extra spaces in the description \n",
    "data['Description'] = data['Description'].str.strip() \n",
    "  \n",
    "# Dropping the rows without any invoice number \n",
    "data.dropna(axis = 0, subset =['InvoiceNo'], inplace = True) \n",
    "data['InvoiceNo'] = data['InvoiceNo'].astype('str') \n",
    "  \n",
    "# Dropping all transactions which were done on credit \n",
    "data = data[~data['InvoiceNo'].str.contains('C')] "
   ]
  },
  {
   "cell_type": "code",
   "execution_count": 9,
   "id": "e2a019a4",
   "metadata": {
    "execution": {
     "iopub.execute_input": "2023-07-02T16:08:31.623317Z",
     "iopub.status.busy": "2023-07-02T16:08:31.622930Z",
     "iopub.status.idle": "2023-07-02T16:08:31.663849Z",
     "shell.execute_reply": "2023-07-02T16:08:31.662977Z"
    },
    "papermill": {
     "duration": 0.048996,
     "end_time": "2023-07-02T16:08:31.665719",
     "exception": false,
     "start_time": "2023-07-02T16:08:31.616723",
     "status": "completed"
    },
    "tags": []
   },
   "outputs": [
    {
     "data": {
      "text/plain": [
       "array(['United Kingdom', 'France', 'Australia', 'Netherlands', 'Germany',\n",
       "       'Norway', 'EIRE', 'Switzerland', 'Spain', 'Poland', 'Portugal',\n",
       "       'Italy', 'Belgium', 'Lithuania', 'Japan', 'Iceland',\n",
       "       'Channel Islands', 'Denmark', 'Cyprus', 'Sweden', 'Finland',\n",
       "       'Austria', 'Bahrain', 'Israel', 'Greece', 'Hong Kong', 'Singapore',\n",
       "       'Lebanon', 'United Arab Emirates', 'Saudi Arabia',\n",
       "       'Czech Republic', 'Canada', 'Unspecified', 'Brazil', 'USA',\n",
       "       'European Community', 'Malta', 'RSA'], dtype=object)"
      ]
     },
     "execution_count": 9,
     "metadata": {},
     "output_type": "execute_result"
    }
   ],
   "source": [
    "# Let's see the countries in our dataset\n",
    "\n",
    "data.Country.unique() \n"
   ]
  },
  {
   "cell_type": "code",
   "execution_count": 10,
   "id": "5036f37f",
   "metadata": {
    "execution": {
     "iopub.execute_input": "2023-07-02T16:08:31.678155Z",
     "iopub.status.busy": "2023-07-02T16:08:31.677606Z",
     "iopub.status.idle": "2023-07-02T16:08:31.745945Z",
     "shell.execute_reply": "2023-07-02T16:08:31.744669Z"
    },
    "papermill": {
     "duration": 0.077259,
     "end_time": "2023-07-02T16:08:31.748304",
     "exception": false,
     "start_time": "2023-07-02T16:08:31.671045",
     "status": "completed"
    },
    "tags": []
   },
   "outputs": [],
   "source": [
    "# Splitting the data according to the region of transaction\n",
    "# Transactions done in France \n",
    "basket_France = (data[data['Country'] ==\"France\"] \n",
    "          .groupby(['InvoiceNo', 'Description'])['Quantity'] \n",
    "          .sum().unstack().reset_index().fillna(0) \n",
    "          .set_index('InvoiceNo')) "
   ]
  },
  {
   "cell_type": "code",
   "execution_count": 11,
   "id": "72521f54",
   "metadata": {
    "execution": {
     "iopub.execute_input": "2023-07-02T16:08:31.760058Z",
     "iopub.status.busy": "2023-07-02T16:08:31.759732Z",
     "iopub.status.idle": "2023-07-02T16:08:31.764318Z",
     "shell.execute_reply": "2023-07-02T16:08:31.763313Z"
    },
    "papermill": {
     "duration": 0.012449,
     "end_time": "2023-07-02T16:08:31.766041",
     "exception": false,
     "start_time": "2023-07-02T16:08:31.753592",
     "status": "completed"
    },
    "tags": []
   },
   "outputs": [],
   "source": [
    "# Defining the hot encoding function to make the data suitable  \n",
    "\n",
    "def hot_encode(x): \n",
    "    if(x<= 0): \n",
    "        return 0\n",
    "    if(x>= 1): \n",
    "        return 1"
   ]
  },
  {
   "cell_type": "markdown",
   "id": "6d74144a",
   "metadata": {
    "papermill": {
     "duration": 0.004709,
     "end_time": "2023-07-02T16:08:31.775828",
     "exception": false,
     "start_time": "2023-07-02T16:08:31.771119",
     "status": "completed"
    },
    "tags": []
   },
   "source": [
    "Suppose we want to analyze the market trend to France! "
   ]
  },
  {
   "cell_type": "code",
   "execution_count": 12,
   "id": "3bd8ca43",
   "metadata": {
    "execution": {
     "iopub.execute_input": "2023-07-02T16:08:31.787611Z",
     "iopub.status.busy": "2023-07-02T16:08:31.786906Z",
     "iopub.status.idle": "2023-07-02T16:08:32.182822Z",
     "shell.execute_reply": "2023-07-02T16:08:32.181486Z"
    },
    "papermill": {
     "duration": 0.404637,
     "end_time": "2023-07-02T16:08:32.185343",
     "exception": false,
     "start_time": "2023-07-02T16:08:31.780706",
     "status": "completed"
    },
    "tags": []
   },
   "outputs": [],
   "source": [
    "# Applying one hot encoding \n",
    "\n",
    "basket_encoded = basket_France.applymap(hot_encode) \n",
    "basket_France = basket_encoded "
   ]
  },
  {
   "cell_type": "code",
   "execution_count": 13,
   "id": "344f97e8",
   "metadata": {
    "execution": {
     "iopub.execute_input": "2023-07-02T16:08:32.197833Z",
     "iopub.status.busy": "2023-07-02T16:08:32.196920Z",
     "iopub.status.idle": "2023-07-02T16:08:32.218387Z",
     "shell.execute_reply": "2023-07-02T16:08:32.217131Z"
    },
    "papermill": {
     "duration": 0.029902,
     "end_time": "2023-07-02T16:08:32.220670",
     "exception": false,
     "start_time": "2023-07-02T16:08:32.190768",
     "status": "completed"
    },
    "tags": []
   },
   "outputs": [
    {
     "data": {
      "text/html": [
       "<div>\n",
       "<style scoped>\n",
       "    .dataframe tbody tr th:only-of-type {\n",
       "        vertical-align: middle;\n",
       "    }\n",
       "\n",
       "    .dataframe tbody tr th {\n",
       "        vertical-align: top;\n",
       "    }\n",
       "\n",
       "    .dataframe thead th {\n",
       "        text-align: right;\n",
       "    }\n",
       "</style>\n",
       "<table border=\"1\" class=\"dataframe\">\n",
       "  <thead>\n",
       "    <tr style=\"text-align: right;\">\n",
       "      <th>Description</th>\n",
       "      <th>10 COLOUR SPACEBOY PEN</th>\n",
       "      <th>12 COLOURED PARTY BALLOONS</th>\n",
       "      <th>12 EGG HOUSE PAINTED WOOD</th>\n",
       "      <th>12 MESSAGE CARDS WITH ENVELOPES</th>\n",
       "      <th>12 PENCIL SMALL TUBE WOODLAND</th>\n",
       "      <th>12 PENCILS SMALL TUBE RED RETROSPOT</th>\n",
       "      <th>12 PENCILS SMALL TUBE SKULL</th>\n",
       "      <th>12 PENCILS TALL TUBE POSY</th>\n",
       "      <th>12 PENCILS TALL TUBE RED RETROSPOT</th>\n",
       "      <th>12 PENCILS TALL TUBE WOODLAND</th>\n",
       "      <th>...</th>\n",
       "      <th>WRAP VINTAGE PETALS  DESIGN</th>\n",
       "      <th>YELLOW COAT RACK PARIS FASHION</th>\n",
       "      <th>YELLOW GIANT GARDEN THERMOMETER</th>\n",
       "      <th>YELLOW SHARK HELICOPTER</th>\n",
       "      <th>ZINC  STAR T-LIGHT HOLDER</th>\n",
       "      <th>ZINC FOLKART SLEIGH BELLS</th>\n",
       "      <th>ZINC HERB GARDEN CONTAINER</th>\n",
       "      <th>ZINC METAL HEART DECORATION</th>\n",
       "      <th>ZINC T-LIGHT HOLDER STAR LARGE</th>\n",
       "      <th>ZINC T-LIGHT HOLDER STARS SMALL</th>\n",
       "    </tr>\n",
       "    <tr>\n",
       "      <th>InvoiceNo</th>\n",
       "      <th></th>\n",
       "      <th></th>\n",
       "      <th></th>\n",
       "      <th></th>\n",
       "      <th></th>\n",
       "      <th></th>\n",
       "      <th></th>\n",
       "      <th></th>\n",
       "      <th></th>\n",
       "      <th></th>\n",
       "      <th></th>\n",
       "      <th></th>\n",
       "      <th></th>\n",
       "      <th></th>\n",
       "      <th></th>\n",
       "      <th></th>\n",
       "      <th></th>\n",
       "      <th></th>\n",
       "      <th></th>\n",
       "      <th></th>\n",
       "      <th></th>\n",
       "    </tr>\n",
       "  </thead>\n",
       "  <tbody>\n",
       "    <tr>\n",
       "      <th>536370</th>\n",
       "      <td>0</td>\n",
       "      <td>0</td>\n",
       "      <td>0</td>\n",
       "      <td>0</td>\n",
       "      <td>0</td>\n",
       "      <td>0</td>\n",
       "      <td>0</td>\n",
       "      <td>0</td>\n",
       "      <td>0</td>\n",
       "      <td>0</td>\n",
       "      <td>...</td>\n",
       "      <td>0</td>\n",
       "      <td>0</td>\n",
       "      <td>0</td>\n",
       "      <td>0</td>\n",
       "      <td>0</td>\n",
       "      <td>0</td>\n",
       "      <td>0</td>\n",
       "      <td>0</td>\n",
       "      <td>0</td>\n",
       "      <td>0</td>\n",
       "    </tr>\n",
       "    <tr>\n",
       "      <th>536852</th>\n",
       "      <td>0</td>\n",
       "      <td>0</td>\n",
       "      <td>0</td>\n",
       "      <td>0</td>\n",
       "      <td>0</td>\n",
       "      <td>0</td>\n",
       "      <td>0</td>\n",
       "      <td>0</td>\n",
       "      <td>0</td>\n",
       "      <td>0</td>\n",
       "      <td>...</td>\n",
       "      <td>0</td>\n",
       "      <td>0</td>\n",
       "      <td>0</td>\n",
       "      <td>0</td>\n",
       "      <td>0</td>\n",
       "      <td>0</td>\n",
       "      <td>0</td>\n",
       "      <td>0</td>\n",
       "      <td>0</td>\n",
       "      <td>0</td>\n",
       "    </tr>\n",
       "    <tr>\n",
       "      <th>536974</th>\n",
       "      <td>0</td>\n",
       "      <td>0</td>\n",
       "      <td>0</td>\n",
       "      <td>0</td>\n",
       "      <td>0</td>\n",
       "      <td>0</td>\n",
       "      <td>0</td>\n",
       "      <td>0</td>\n",
       "      <td>0</td>\n",
       "      <td>0</td>\n",
       "      <td>...</td>\n",
       "      <td>0</td>\n",
       "      <td>0</td>\n",
       "      <td>0</td>\n",
       "      <td>0</td>\n",
       "      <td>0</td>\n",
       "      <td>0</td>\n",
       "      <td>0</td>\n",
       "      <td>0</td>\n",
       "      <td>0</td>\n",
       "      <td>0</td>\n",
       "    </tr>\n",
       "    <tr>\n",
       "      <th>537065</th>\n",
       "      <td>0</td>\n",
       "      <td>0</td>\n",
       "      <td>0</td>\n",
       "      <td>0</td>\n",
       "      <td>0</td>\n",
       "      <td>0</td>\n",
       "      <td>0</td>\n",
       "      <td>0</td>\n",
       "      <td>0</td>\n",
       "      <td>0</td>\n",
       "      <td>...</td>\n",
       "      <td>0</td>\n",
       "      <td>0</td>\n",
       "      <td>0</td>\n",
       "      <td>0</td>\n",
       "      <td>0</td>\n",
       "      <td>0</td>\n",
       "      <td>0</td>\n",
       "      <td>0</td>\n",
       "      <td>0</td>\n",
       "      <td>0</td>\n",
       "    </tr>\n",
       "    <tr>\n",
       "      <th>537463</th>\n",
       "      <td>0</td>\n",
       "      <td>0</td>\n",
       "      <td>0</td>\n",
       "      <td>0</td>\n",
       "      <td>0</td>\n",
       "      <td>0</td>\n",
       "      <td>0</td>\n",
       "      <td>0</td>\n",
       "      <td>0</td>\n",
       "      <td>0</td>\n",
       "      <td>...</td>\n",
       "      <td>0</td>\n",
       "      <td>0</td>\n",
       "      <td>0</td>\n",
       "      <td>0</td>\n",
       "      <td>0</td>\n",
       "      <td>0</td>\n",
       "      <td>0</td>\n",
       "      <td>0</td>\n",
       "      <td>0</td>\n",
       "      <td>0</td>\n",
       "    </tr>\n",
       "  </tbody>\n",
       "</table>\n",
       "<p>5 rows × 1563 columns</p>\n",
       "</div>"
      ],
      "text/plain": [
       "Description  10 COLOUR SPACEBOY PEN  12 COLOURED PARTY BALLOONS  \\\n",
       "InvoiceNo                                                         \n",
       "536370                            0                           0   \n",
       "536852                            0                           0   \n",
       "536974                            0                           0   \n",
       "537065                            0                           0   \n",
       "537463                            0                           0   \n",
       "\n",
       "Description  12 EGG HOUSE PAINTED WOOD  12 MESSAGE CARDS WITH ENVELOPES  \\\n",
       "InvoiceNo                                                                 \n",
       "536370                               0                                0   \n",
       "536852                               0                                0   \n",
       "536974                               0                                0   \n",
       "537065                               0                                0   \n",
       "537463                               0                                0   \n",
       "\n",
       "Description  12 PENCIL SMALL TUBE WOODLAND  \\\n",
       "InvoiceNo                                    \n",
       "536370                                   0   \n",
       "536852                                   0   \n",
       "536974                                   0   \n",
       "537065                                   0   \n",
       "537463                                   0   \n",
       "\n",
       "Description  12 PENCILS SMALL TUBE RED RETROSPOT  12 PENCILS SMALL TUBE SKULL  \\\n",
       "InvoiceNo                                                                       \n",
       "536370                                         0                            0   \n",
       "536852                                         0                            0   \n",
       "536974                                         0                            0   \n",
       "537065                                         0                            0   \n",
       "537463                                         0                            0   \n",
       "\n",
       "Description  12 PENCILS TALL TUBE POSY  12 PENCILS TALL TUBE RED RETROSPOT  \\\n",
       "InvoiceNo                                                                    \n",
       "536370                               0                                   0   \n",
       "536852                               0                                   0   \n",
       "536974                               0                                   0   \n",
       "537065                               0                                   0   \n",
       "537463                               0                                   0   \n",
       "\n",
       "Description  12 PENCILS TALL TUBE WOODLAND  ...  WRAP VINTAGE PETALS  DESIGN  \\\n",
       "InvoiceNo                                   ...                                \n",
       "536370                                   0  ...                            0   \n",
       "536852                                   0  ...                            0   \n",
       "536974                                   0  ...                            0   \n",
       "537065                                   0  ...                            0   \n",
       "537463                                   0  ...                            0   \n",
       "\n",
       "Description  YELLOW COAT RACK PARIS FASHION  YELLOW GIANT GARDEN THERMOMETER  \\\n",
       "InvoiceNo                                                                      \n",
       "536370                                    0                                0   \n",
       "536852                                    0                                0   \n",
       "536974                                    0                                0   \n",
       "537065                                    0                                0   \n",
       "537463                                    0                                0   \n",
       "\n",
       "Description  YELLOW SHARK HELICOPTER  ZINC  STAR T-LIGHT HOLDER  \\\n",
       "InvoiceNo                                                         \n",
       "536370                             0                          0   \n",
       "536852                             0                          0   \n",
       "536974                             0                          0   \n",
       "537065                             0                          0   \n",
       "537463                             0                          0   \n",
       "\n",
       "Description  ZINC FOLKART SLEIGH BELLS  ZINC HERB GARDEN CONTAINER  \\\n",
       "InvoiceNo                                                            \n",
       "536370                               0                           0   \n",
       "536852                               0                           0   \n",
       "536974                               0                           0   \n",
       "537065                               0                           0   \n",
       "537463                               0                           0   \n",
       "\n",
       "Description  ZINC METAL HEART DECORATION  ZINC T-LIGHT HOLDER STAR LARGE  \\\n",
       "InvoiceNo                                                                  \n",
       "536370                                 0                               0   \n",
       "536852                                 0                               0   \n",
       "536974                                 0                               0   \n",
       "537065                                 0                               0   \n",
       "537463                                 0                               0   \n",
       "\n",
       "Description  ZINC T-LIGHT HOLDER STARS SMALL  \n",
       "InvoiceNo                                     \n",
       "536370                                     0  \n",
       "536852                                     0  \n",
       "536974                                     0  \n",
       "537065                                     0  \n",
       "537463                                     0  \n",
       "\n",
       "[5 rows x 1563 columns]"
      ]
     },
     "execution_count": 13,
     "metadata": {},
     "output_type": "execute_result"
    }
   ],
   "source": [
    "basket_France.head()"
   ]
  },
  {
   "cell_type": "markdown",
   "id": "514d8300",
   "metadata": {
    "papermill": {
     "duration": 0.005143,
     "end_time": "2023-07-02T16:08:32.231598",
     "exception": false,
     "start_time": "2023-07-02T16:08:32.226455",
     "status": "completed"
    },
    "tags": []
   },
   "source": [
    "### Building the model"
   ]
  },
  {
   "cell_type": "code",
   "execution_count": 14,
   "id": "d8c9de0d",
   "metadata": {
    "execution": {
     "iopub.execute_input": "2023-07-02T16:08:32.243948Z",
     "iopub.status.busy": "2023-07-02T16:08:32.243617Z",
     "iopub.status.idle": "2023-07-02T16:08:32.268191Z",
     "shell.execute_reply": "2023-07-02T16:08:32.267078Z"
    },
    "papermill": {
     "duration": 0.033476,
     "end_time": "2023-07-02T16:08:32.270348",
     "exception": false,
     "start_time": "2023-07-02T16:08:32.236872",
     "status": "completed"
    },
    "tags": []
   },
   "outputs": [
    {
     "name": "stderr",
     "output_type": "stream",
     "text": [
      "/opt/conda/lib/python3.10/site-packages/mlxtend/frequent_patterns/fpcommon.py:110: DeprecationWarning: DataFrames with non-bool types result in worse computationalperformance and their support might be discontinued in the future.Please use a DataFrame with bool type\n",
      "  warnings.warn(\n"
     ]
    }
   ],
   "source": [
    "# Building the model \n",
    "frq_items = apriori(basket_France, min_support = 0.1, use_colnames = True) \n",
    "  \n",
    "# Collecting the inferred rules in a dataframe \n",
    "rules = association_rules(frq_items, metric =\"lift\", min_threshold = 1) \n",
    "rules = rules.sort_values(['confidence', 'lift'], ascending =[False, False]) \n"
   ]
  },
  {
   "cell_type": "code",
   "execution_count": 15,
   "id": "363fa792",
   "metadata": {
    "execution": {
     "iopub.execute_input": "2023-07-02T16:08:32.282778Z",
     "iopub.status.busy": "2023-07-02T16:08:32.282463Z",
     "iopub.status.idle": "2023-07-02T16:08:32.294386Z",
     "shell.execute_reply": "2023-07-02T16:08:32.293330Z"
    },
    "papermill": {
     "duration": 0.020231,
     "end_time": "2023-07-02T16:08:32.296289",
     "exception": false,
     "start_time": "2023-07-02T16:08:32.276058",
     "status": "completed"
    },
    "tags": []
   },
   "outputs": [
    {
     "name": "stdout",
     "output_type": "stream",
     "text": [
      "                                 antecedents                      consequents  \\\n",
      "41           (SET/6 RED SPOTTY PAPER PLATES)    (SET/6 RED SPOTTY PAPER CUPS)   \n",
      "44  (SET/6 RED SPOTTY PAPER PLATES, POSTAGE)    (SET/6 RED SPOTTY PAPER CUPS)   \n",
      "34       (STRAWBERRY LUNCH BOX WITH CUTLERY)                        (POSTAGE)   \n",
      "27      (ROUND SNACK BOXES SET OF4 WOODLAND)                        (POSTAGE)   \n",
      "40             (SET/6 RED SPOTTY PAPER CUPS)  (SET/6 RED SPOTTY PAPER PLATES)   \n",
      "\n",
      "    antecedent support  consequent support   support  confidence      lift  \\\n",
      "41            0.127551            0.137755  0.122449    0.960000  6.968889   \n",
      "44            0.107143            0.137755  0.102041    0.952381  6.913580   \n",
      "34            0.122449            0.765306  0.114796    0.937500  1.225000   \n",
      "27            0.158163            0.765306  0.147959    0.935484  1.222366   \n",
      "40            0.137755            0.127551  0.122449    0.888889  6.968889   \n",
      "\n",
      "    leverage  conviction  zhangs_metric  \n",
      "41  0.104878   21.556122       0.981725  \n",
      "44  0.087281   18.107143       0.958000  \n",
      "34  0.021085    3.755102       0.209302  \n",
      "27  0.026916    3.637755       0.216092  \n",
      "40  0.104878    7.852041       0.993343  \n"
     ]
    }
   ],
   "source": [
    "print(rules.head()) "
   ]
  },
  {
   "cell_type": "markdown",
   "id": "3a063f1f",
   "metadata": {
    "papermill": {
     "duration": 0.005097,
     "end_time": "2023-07-02T16:08:32.306938",
     "exception": false,
     "start_time": "2023-07-02T16:08:32.301841",
     "status": "completed"
    },
    "tags": []
   },
   "source": [
    "From the above output, it can be seen that paper cups and plates are bought together in France. This is because the French have a culture of having a get-together with their friends and family atleast once a week."
   ]
  },
  {
   "cell_type": "code",
   "execution_count": null,
   "id": "11484170",
   "metadata": {
    "papermill": {
     "duration": 0.005165,
     "end_time": "2023-07-02T16:08:32.317558",
     "exception": false,
     "start_time": "2023-07-02T16:08:32.312393",
     "status": "completed"
    },
    "tags": []
   },
   "outputs": [],
   "source": []
  }
 ],
 "metadata": {
  "kernelspec": {
   "display_name": "Python 3",
   "language": "python",
   "name": "python3"
  },
  "language_info": {
   "codemirror_mode": {
    "name": "ipython",
    "version": 3
   },
   "file_extension": ".py",
   "mimetype": "text/x-python",
   "name": "python",
   "nbconvert_exporter": "python",
   "pygments_lexer": "ipython3",
   "version": "3.10.10"
  },
  "papermill": {
   "default_parameters": {},
   "duration": 76.598852,
   "end_time": "2023-07-02T16:08:33.246109",
   "environment_variables": {},
   "exception": null,
   "input_path": "__notebook__.ipynb",
   "output_path": "__notebook__.ipynb",
   "parameters": {},
   "start_time": "2023-07-02T16:07:16.647257",
   "version": "2.4.0"
  }
 },
 "nbformat": 4,
 "nbformat_minor": 5
}
